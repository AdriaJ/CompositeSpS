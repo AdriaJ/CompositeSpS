{
 "cells": [
  {
   "cell_type": "markdown",
   "metadata": {},
   "source": [
    "# Imports"
   ]
  },
  {
   "cell_type": "code",
   "execution_count": 1,
   "metadata": {},
   "outputs": [],
   "source": [
    "%load_ext autoreload"
   ]
  },
  {
   "cell_type": "code",
   "execution_count": 11,
   "metadata": {},
   "outputs": [],
   "source": [
    "%autoreload 2\n",
    "from src import *\n",
    "import numpy as np"
   ]
  },
  {
   "cell_type": "markdown",
   "metadata": {},
   "source": [
    "# Signal"
   ]
  },
  {
   "cell_type": "code",
   "execution_count": 36,
   "metadata": {},
   "outputs": [],
   "source": [
    "dim = (32, 32)\n",
    "\n",
    "# Sparse signal parameters\n",
    "sparse_range = (2, 6)\n",
    "density = 0.005\n",
    "\n",
    "# Smooth signal parameters\n",
    "smooth_range = (0, 2)\n",
    "sigmas_range = (2e-2, 2e-1)\n",
    "nb_gaussian = 100\n",
    "\n",
    "# Seed\n",
    "seed = None\n",
    "np.random.seed(seed)"
   ]
  },
  {
   "cell_type": "code",
   "execution_count": 37,
   "metadata": {},
   "outputs": [
    {
     "data": {
      "image/png": "[encoded data removed]",
      "text/plain": [
       "<Figure size 640x480 with 3 Axes>"
      ]
     },
     "metadata": {},
     "output_type": "display_data"
    }
   ],
   "source": [
    "sparse_signal = compute_sparse(dim, sparse_range, density, seed)\n",
    "smooth_signal = compute_smooth(dim, smooth_range, sigmas_range, nb_gaussian)\n",
    "\n",
    "signal = sparse_signal + smooth_signal \n",
    "plot_signal(sparse_signal,smooth_signal,signal)"
   ]
  },
  {
   "cell_type": "markdown",
   "metadata": {},
   "source": [
    "# Operator $\\phi$"
   ]
  },
  {
   "cell_type": "code",
   "execution_count": 43,
   "metadata": {},
   "outputs": [],
   "source": [
    "L = 1\n",
    "theta = 0.5\n",
    "phi = non_uni_FFT(dim, L, theta)\n",
    "\n",
    "x0 = signal.ravel()\n",
    "y0 = pxu.view_as_complex(phi.apply(x0))\n",
    "\n",
    "pnsr = np.inf\n",
    "y = compute_y(y0, pnsr)"
   ]
  },
  {
   "cell_type": "markdown",
   "metadata": {},
   "source": [
    "# Solver"
   ]
  },
  {
   "cell_type": "code",
   "execution_count": 44,
   "metadata": {},
   "outputs": [
    {
     "name": "stderr",
     "output_type": "stream",
     "text": [
      "/Library/Frameworks/Python.framework/Versions/3.10/lib/python3.10/site-packages/pyxu/abc/arithmetic.py:639: DeprecationWarning: Conversion of an array with ndim > 0 to a scalar is deprecated, and will error in future. Ensure you extract a single element from your array before performing this operation. (Deprecated NumPy 1.25.)\n",
      "  t2 = float(self._op.apply(self._cst))\n"
     ]
    },
    {
     "name": "stdout",
     "output_type": "stream",
     "text": [
      "INFO -- [2023-10-02 11:53:58.632952] Iteration 0\n",
      "\titeration: 0\n",
      "\tRelError[x]: 0.0\n",
      "INFO -- [2023-10-02 11:53:58.867107] Iteration 50\n",
      "\titeration: 50\n",
      "\tRelError[x]: 0.00793565747471177\n",
      "INFO -- [2023-10-02 11:53:59.058844] Iteration 100\n",
      "\titeration: 100\n",
      "\tRelError[x]: 0.0015594259341985253\n",
      "INFO -- [2023-10-02 11:53:59.274615] Iteration 150\n",
      "\titeration: 150\n",
      "\tRelError[x]: 0.00048416210033395496\n",
      "INFO -- [2023-10-02 11:53:59.464840] Iteration 200\n",
      "\titeration: 200\n",
      "\tRelError[x]: 0.0002508863362376177\n",
      "INFO -- [2023-10-02 11:53:59.749345] Iteration 250\n",
      "\titeration: 250\n",
      "\tRelError[x]: 0.00015782661621739709\n",
      "INFO -- [2023-10-02 11:54:00.010339] Iteration 300\n",
      "\titeration: 300\n",
      "\tRelError[x]: 0.00011035474332139519\n",
      "INFO -- [2023-10-02 11:54:00.096944] Iteration 316\n",
      "\titeration: 316\n",
      "\tRelError[x]: 9.997665035275699e-05\n",
      "INFO -- [2023-10-02 11:54:00.098299] Stopping Criterion satisfied -> END\n"
     ]
    },
    {
     "name": "stderr",
     "output_type": "stream",
     "text": [
      "sys:1: ResourceWarning: unclosed socket <zmq.Socket(zmq.PUSH) at 0x14f8cb160>\n",
      "ResourceWarning: Enable tracemalloc to get the object allocation traceback\n"
     ]
    }
   ],
   "source": [
    "# Loss weights\n",
    "lambda1 = 0\n",
    "lambda2 = 0\n",
    "\n",
    "x1,x2 = solve(y, phi, lambda1, lambda2)"
   ]
  },
  {
   "cell_type": "code",
   "execution_count": 48,
   "metadata": {},
   "outputs": [
    {
     "name": "stdout",
     "output_type": "stream",
     "text": [
      "116.28752563506507\n"
     ]
    },
    {
     "data": {
      "image/png": "[encoded data removed]",
      "text/plain": [
       "<Figure size 640x480 with 3 Axes>"
      ]
     },
     "metadata": {},
     "output_type": "display_data"
    },
    {
     "data": {
      "image/png": "[encoded data removed]",
      "text/plain": [
       "<Figure size 640x480 with 3 Axes>"
      ]
     },
     "metadata": {},
     "output_type": "display_data"
    }
   ],
   "source": [
    "sparse_rcstr, smooth_rcstr, signal_rcstr = map(\n",
    "    lambda x: x.reshape(dim), (x1, x2, x1 + x2)\n",
    ")\n",
    "plot_signal(sparse_rcstr, smooth_rcstr, signal_rcstr)\n",
    "plot_signal(\n",
    "    np.abs(sparse_rcstr - sparse_signal),\n",
    "    np.abs(smooth_rcstr - smooth_signal),\n",
    "    np.abs(signal_rcstr - signal),\n",
    ")\n",
    "print(np.abs(signal_rcstr - signal).sum())"
   ]
  }
 ],
 "metadata": {
  "kernelspec": {
   "display_name": "Python 3",
   "language": "python",
   "name": "python3"
  },
  "language_info": {
   "codemirror_mode": {
    "name": "ipython",
    "version": 3
   },
   "file_extension": ".py",
   "mimetype": "text/x-python",
   "name": "python",
   "nbconvert_exporter": "python",
   "pygments_lexer": "ipython3",
   "version": "3.10.7"
  },
  "orig_nbformat": 4
 },
 "nbformat": 4,
 "nbformat_minor": 2
}
